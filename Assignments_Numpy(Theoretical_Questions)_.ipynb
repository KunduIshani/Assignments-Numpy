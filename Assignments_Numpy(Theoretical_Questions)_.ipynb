{
  "nbformat": 4,
  "nbformat_minor": 0,
  "metadata": {
    "colab": {
      "provenance": []
    },
    "kernelspec": {
      "name": "python3",
      "display_name": "Python 3"
    },
    "language_info": {
      "name": "python"
    }
  },
  "cells": [
    {
      "cell_type": "code",
      "execution_count": null,
      "metadata": {
        "id": "Soz3QixKRxnG"
      },
      "outputs": [],
      "source": [
        "#1.Explain the purpose and advantages of NumPy in scientific computing and data analysis. How does it enhance Python's capabilities for numerical operations?"
      ]
    },
    {
      "cell_type": "code",
      "source": [
        "#ans: NumPy (Numerical Python) is a fundamental library in Python for scientific computing and data analysis. It provides support for large, multi-dimensional arrays and matrices, along with a collection of mathematical functions to operate on these arrays efficiently. Here’s an explanation of its purpose, advantages, and how it enhances Python's capabilities for numerical operations:\n",
        "\n",
        "### Purpose of NumPy\n",
        "\n",
        "#1. **Array Support**:\n",
        "   #- NumPy introduces the `ndarray` (N-dimensional array) object, which is a powerful data structure for handling large datasets. Unlike Python lists, which are flexible but slow, NumPy arrays are more efficient for numerical computation.\n",
        "\n",
        "#2. **Efficient Computation**:\n",
        "   #- NumPy provides a range of mathematical functions that operate on arrays in an element-wise fashion. This enables efficient computation on large datasets, making it ideal for scientific computing tasks.\n",
        "\n",
        "#3. **Foundation for Other Libraries**:\n",
        "   #- Many other scientific and data analysis libraries in Python, such as SciPy, Pandas, and TensorFlow, are built on top of NumPy. It serves as the backbone for these libraries, providing the fundamental array structures and operations.\n",
        "\n",
        "### Advantages of NumPy\n",
        "\n",
        "#1. **Performance**:\n",
        "   #- NumPy arrays are more compact and faster than Python lists because they are implemented in C and use contiguous blocks of memory. Operations on NumPy arrays are performed in compiled code, resulting in significant speedups compared to native Python loops and operations.\n",
        "\n",
        "#2. **Vectorization**:\n",
        "   #- NumPy allows vectorized operations, which means you can apply operations to entire arrays or slices of arrays without writing explicit loops. This not only makes the code more concise but also takes advantage of optimized C and Fortran code for better performance.\n",
        "\n",
        "#3. **Broadcasting**:\n",
        "   #- NumPy supports broadcasting, a powerful mechanism that allows arithmetic operations to be performed on arrays of different shapes. Broadcasting automatically expands the dimensions of arrays to make them compatible for element-wise operations, eliminating the need for manual reshaping.\n",
        "\n",
        "#4. **Memory Efficiency**:\n",
        "   #- NumPy arrays are more memory-efficient than Python lists. This efficiency is critical when working with large datasets, as it allows for better use of memory and improved performance.\n",
        "\n",
        "#5. **Rich Functionality**:\n",
        "   #- NumPy provides a vast collection of mathematical functions, including linear algebra, random number generation, Fourier transforms, and more. These functions are optimized for performance and can handle large datasets with ease.\n",
        "\n",
        "#6. **Integration with Other Libraries**:\n",
        "   #- NumPy arrays are the standard data structure in Python for numerical data. They can be easily integrated with other libraries, such as Pandas for data manipulation, Matplotlib for plotting, and SciPy for more advanced scientific computations.\n",
        "\n",
        "### Enhancing Python's Capabilities for Numerical Operations\n",
        "\n",
        "#1. **Handling Large Datasets**:\n",
        "   #- Python lists are not well-suited for handling large numerical datasets due to their overhead and inefficiency. NumPy arrays provide a more suitable structure, allowing Python to handle large-scale scientific computations that would be infeasible with native Python lists.\n",
        "\n",
        "#2. **Mathematical Operations**:\n",
        "   #- Python's standard library has limited support for numerical operations on lists and arrays. NumPy extends Python’s capabilities by providing a comprehensive set of mathematical functions that operate efficiently on arrays.\n",
        "\n",
        "#3. **Ease of Use**:\n",
        "   #- NumPy’s syntax and functionality are designed to be intuitive for those familiar with mathematical notation, making it easier to translate mathematical formulas into code. This ease of use accelerates development in scientific computing and data analysis.\n",
        "\n",
        "#4. **Interoperability**:\n",
        "   #- NumPy arrays can be easily converted to and from other formats, such as lists, Pandas DataFrames, or even formats used in machine learning frameworks like TensorFlow. This interoperability makes it easier to integrate different parts of a data analysis or scientific computing pipeline."
      ],
      "metadata": {
        "id": "9D_1kRGDR-a8"
      },
      "execution_count": null,
      "outputs": []
    },
    {
      "cell_type": "code",
      "source": [
        "#2.Compare and contrast np.mean() and np.average() functions in NumPy. When would you use one over the other."
      ],
      "metadata": {
        "id": "F4f1D0X0R-eH"
      },
      "execution_count": null,
      "outputs": []
    },
    {
      "cell_type": "code",
      "source": [
        "import numpy as np\n",
        "\n",
        "data = np.array([1, 2, 3, 4])\n",
        "mean_value = np.mean(data)\n",
        "print(mean_value)\n"
      ],
      "metadata": {
        "colab": {
          "base_uri": "https://localhost:8080/"
        },
        "id": "5lAdtluGR-g8",
        "outputId": "5fb35e92-2e90-4b0c-b107-31425945ed18"
      },
      "execution_count": 1,
      "outputs": [
        {
          "output_type": "stream",
          "name": "stdout",
          "text": [
            "2.5\n"
          ]
        }
      ]
    },
    {
      "cell_type": "code",
      "source": [
        "import numpy as np\n",
        "\n",
        "data = np.array([1, 2, 3, 4])\n",
        "weights = np.array([1, 2, 3, 4])\n",
        "average_value = np.average(data, weights=weights)\n",
        "print(average_value)\n"
      ],
      "metadata": {
        "colab": {
          "base_uri": "https://localhost:8080/"
        },
        "id": "27wFu7BzR-jV",
        "outputId": "d30752ec-9328-46ed-ed72-b56b0b88ad38"
      },
      "execution_count": 2,
      "outputs": [
        {
          "output_type": "stream",
          "name": "stdout",
          "text": [
            "3.0\n"
          ]
        }
      ]
    },
    {
      "cell_type": "code",
      "source": [
        "#When to Use np.mean() vs. np.average()\n",
        "#Use np.mean():\n",
        "#When you need to calculate the simple arithmetic mean of an array.\n",
        "#When weights are not a consideration, and you want a straightforward calculation.\n",
        "#Use np.average():\n",
        "#When you need to compute a weighted average, where certain elements contribute more to the average than others.\n",
        "#When you might need to switch between a simple mean and a weighted average within the same code, np.average() offers more flexibility"
      ],
      "metadata": {
        "id": "P7eCrOs0R-mA"
      },
      "execution_count": null,
      "outputs": []
    },
    {
      "cell_type": "code",
      "source": [
        "#3.Describe the methods for reversing a NumPy array along different axes. Provide examples for 1D and 2D arrays."
      ],
      "metadata": {
        "id": "aJ5R_n4bR-om"
      },
      "execution_count": null,
      "outputs": []
    },
    {
      "cell_type": "code",
      "source": [
        "#Methods for Reversing a NumPy Array\n",
        "#Using Slicing:\n",
        "#Slicing is a simple and efficient way to reverse a NumPy array. The slicing operation [start:stop:step] allows you to reverse the array by setting the step to -1.\n",
        "#Using np.flip():\n",
        "#np.flip() is a built-in function that reverses the order of elements in an array along a specified axis. It can be used for 1D, 2D, and higher-dimensional arrays.\n",
        "#Using np.fliplr() and np.flipud():\n",
        "#These functions are specifically designed for 2D arrays. np.fliplr() flips the array left to right (horizontally), while np.flipud() flips the array upside down (vertically)."
      ],
      "metadata": {
        "id": "-gu_U5kpb9pO"
      },
      "execution_count": null,
      "outputs": []
    },
    {
      "cell_type": "code",
      "source": [
        "#Using Slicing:\n",
        "#1. Reversing a 1D Array.\n",
        "import numpy as np\n",
        "\n",
        "arr = np.array([1, 2, 3, 4, 5])\n",
        "reversed_arr = arr[::-1]\n",
        "print(\"Original Array:\", arr)\n",
        "print(\"Reversed Array (using slicing):\", reversed_arr)\n"
      ],
      "metadata": {
        "colab": {
          "base_uri": "https://localhost:8080/"
        },
        "id": "fWwVz9PuR-rg",
        "outputId": "3b175274-ee05-46c7-c415-bc439bb7d9b1"
      },
      "execution_count": 3,
      "outputs": [
        {
          "output_type": "stream",
          "name": "stdout",
          "text": [
            "Original Array: [1 2 3 4 5]\n",
            "Reversed Array (using slicing): [5 4 3 2 1]\n"
          ]
        }
      ]
    },
    {
      "cell_type": "code",
      "source": [
        "#using np.flip():\n",
        "reversed_arr = np.flip(arr)\n",
        "print(\"Reversed Array (using np.flip()):\", reversed_arr)\n"
      ],
      "metadata": {
        "colab": {
          "base_uri": "https://localhost:8080/"
        },
        "id": "lm9F12iBR-uR",
        "outputId": "408ba16a-2567-445c-b50b-9b0e81739aaf"
      },
      "execution_count": 4,
      "outputs": [
        {
          "output_type": "stream",
          "name": "stdout",
          "text": [
            "Reversed Array (using np.flip()): [5 4 3 2 1]\n"
          ]
        }
      ]
    },
    {
      "cell_type": "code",
      "source": [
        "#2. Reversing a 2D Array\n",
        "arr_2d = np.array([[1, 2, 3],\n",
        "                   [4, 5, 6],\n",
        "                   [7, 8, 9]])\n",
        "#Reversing the Whole Array Using Slicing:\n",
        "reversed_arr_2d = arr_2d[::-1, ::-1]\n",
        "print(\"Original 2D Array:\\n\", arr_2d)\n",
        "print(\"Reversed 2D Array (using slicing):\\n\", reversed_arr_2d)\n"
      ],
      "metadata": {
        "colab": {
          "base_uri": "https://localhost:8080/"
        },
        "id": "1qoX8JuTR-xN",
        "outputId": "314a701d-7b04-41b0-85bc-5e916dc395ad"
      },
      "execution_count": 5,
      "outputs": [
        {
          "output_type": "stream",
          "name": "stdout",
          "text": [
            "Original 2D Array:\n",
            " [[1 2 3]\n",
            " [4 5 6]\n",
            " [7 8 9]]\n",
            "Reversed 2D Array (using slicing):\n",
            " [[9 8 7]\n",
            " [6 5 4]\n",
            " [3 2 1]]\n"
          ]
        }
      ]
    },
    {
      "cell_type": "code",
      "source": [
        "#Reversing Along a Specific Axis Using np.flip():\n",
        "#Reverse Rows (Flip Vertically):\n",
        "flip_vertically = np.flip(arr_2d, axis=0)\n",
        "print(\"Flipped Vertically (using np.flip()):\\n\", flip_vertically)\n"
      ],
      "metadata": {
        "colab": {
          "base_uri": "https://localhost:8080/"
        },
        "id": "1pJtrk7jR-0L",
        "outputId": "ba909756-3f0f-4bf3-c462-a5ead0894694"
      },
      "execution_count": 6,
      "outputs": [
        {
          "output_type": "stream",
          "name": "stdout",
          "text": [
            "Flipped Vertically (using np.flip()):\n",
            " [[7 8 9]\n",
            " [4 5 6]\n",
            " [1 2 3]]\n"
          ]
        }
      ]
    },
    {
      "cell_type": "code",
      "source": [
        "#Reverse Columns (Flip Horizontally):\n",
        "flip_horizontally = np.flip(arr_2d, axis=1)\n",
        "print(\"Flipped Horizontally (using np.flip()):\\n\", flip_horizontally)\n"
      ],
      "metadata": {
        "colab": {
          "base_uri": "https://localhost:8080/"
        },
        "id": "S2v4bLzoR-3C",
        "outputId": "74e34ce8-e66c-4bd6-e7dd-4a06d98bf3f2"
      },
      "execution_count": 7,
      "outputs": [
        {
          "output_type": "stream",
          "name": "stdout",
          "text": [
            "Flipped Horizontally (using np.flip()):\n",
            " [[3 2 1]\n",
            " [6 5 4]\n",
            " [9 8 7]]\n"
          ]
        }
      ]
    },
    {
      "cell_type": "code",
      "source": [
        "#Using np.fliplr() and np.flipud():\n",
        "#Flip Left to Right (Horizontally):\n",
        "flipped_lr = np.fliplr(arr_2d)\n",
        "print(\"Flipped Left to Right (using np.fliplr()):\\n\", flipped_lr)\n"
      ],
      "metadata": {
        "colab": {
          "base_uri": "https://localhost:8080/"
        },
        "id": "AGySczvbR-6m",
        "outputId": "66dd21b7-cd5b-4946-c633-2b8c8ff79e0e"
      },
      "execution_count": 8,
      "outputs": [
        {
          "output_type": "stream",
          "name": "stdout",
          "text": [
            "Flipped Left to Right (using np.fliplr()):\n",
            " [[3 2 1]\n",
            " [6 5 4]\n",
            " [9 8 7]]\n"
          ]
        }
      ]
    },
    {
      "cell_type": "code",
      "source": [
        "#Flip Up to Down (Vertically):\n",
        "flipped_ud = np.flipud(arr_2d)\n",
        "print(\"Flipped Up to Down (using np.flipud()):\\n\", flipped_ud)\n"
      ],
      "metadata": {
        "colab": {
          "base_uri": "https://localhost:8080/"
        },
        "id": "m6Ufchtkc5lZ",
        "outputId": "bcca06be-d136-40d3-93a1-9826808034a4"
      },
      "execution_count": 9,
      "outputs": [
        {
          "output_type": "stream",
          "name": "stdout",
          "text": [
            "Flipped Up to Down (using np.flipud()):\n",
            " [[7 8 9]\n",
            " [4 5 6]\n",
            " [1 2 3]]\n"
          ]
        }
      ]
    },
    {
      "cell_type": "code",
      "source": [
        "#4. How can you determine the data type of elements in a NumPy array? Discuss the importance of data types in memory management and performance"
      ],
      "metadata": {
        "id": "YT1k1HPXc5p0"
      },
      "execution_count": null,
      "outputs": []
    },
    {
      "cell_type": "code",
      "source": [
        "import numpy as np\n",
        "\n",
        "arr = np.array([1, 2, 3])\n",
        "print(\"Data type of elements:\", arr.dtype)\n"
      ],
      "metadata": {
        "colab": {
          "base_uri": "https://localhost:8080/"
        },
        "id": "CfaZOAzic5th",
        "outputId": "757fcdb3-80c4-4682-a035-0e09d7639be8"
      },
      "execution_count": 11,
      "outputs": [
        {
          "output_type": "stream",
          "name": "stdout",
          "text": [
            "Data type of elements: int64\n"
          ]
        }
      ]
    },
    {
      "cell_type": "code",
      "source": [
        "#Importance of Data Types in Memory Management and Performance\n",
        "#1. Memory Management:\n",
        "\n",
        "#Efficient Memory Usage:\n",
        "#NumPy arrays are stored in contiguous blocks of memory, which makes them more efficient than Python lists. The dtype of an array determines the amount of memory required to store each element. For example, int32 (32-bit integer) consumes 4 bytes per element, while float64 (64-bit floating-point) consumes 8 bytes per element. Choosing an appropriate dtype can significantly reduce memory usage, especially for large datasets.\n",
        "#Custom Data Types:\n",
        "#NumPy allows for custom data types, enabling the storage of complex records or structures within arrays. This flexibility allows for efficient memory representation of structured data.\n",
        "\n",
        "#2. Performance Optimization:\n",
        "\n",
        "#Vectorized Operations:\n",
        "#NumPy is optimized for performance, particularly through the use of vectorized operations, where operations are performed element-wise on arrays without explicit loops. The efficiency of these operations depends heavily on the underlying data types. Operations on int32 arrays are faster than on float64 arrays due to the smaller size of the data type.\n",
        "#Hardware Utilization:\n",
        "#Modern CPUs have specialized instruction sets that can perform operations on multiple data points simultaneously (SIMD - Single Instruction, Multiple Data). NumPy can leverage these instructions effectively if the data types are chosen wisely. For instance, performing arithmetic on int16 arrays can be faster than on int64 arrays because more int16 values can be processed in parallel.\n",
        "\n",
        "\n",
        "#3. Data Precision and Accuracy:\n",
        "\n",
        "#Numeric Precision:\n",
        "#Different data types have varying levels of precision. For example, float32 has less precision than float64. If a computation requires high precision, using a float64 data type is more appropriate, even though it uses more memory.\n",
        "#Preventing Overflow and Underflow:\n",
        "#Numeric data types have specific ranges. For example, int8 can store values from -128 to 127. If a value exceeds this range, it will cause an overflow, leading to incorrect results. Choosing the appropriate data type prevents such issues, ensuring the integrity of data and computations."
      ],
      "metadata": {
        "id": "PAl4mpZgc5xJ"
      },
      "execution_count": null,
      "outputs": []
    },
    {
      "cell_type": "code",
      "source": [
        "#5.Define ndarrays in NumPy and explain their key features. How do they differ from standard Python lists?"
      ],
      "metadata": {
        "id": "qApdunNRiseo"
      },
      "execution_count": null,
      "outputs": []
    },
    {
      "cell_type": "code",
      "source": [
        "#Numpy stored the data in a numpy array\n",
        "#An array is a container/data structure used to store data of same data type>> homogenous\n",
        "#In NumPy, the primary data structure is called an ndarray, which stands for N-dimensional array."
      ],
      "metadata": {
        "id": "fdVd8LBqislU"
      },
      "execution_count": null,
      "outputs": []
    },
    {
      "cell_type": "code",
      "source": [
        "#Key Features of ndarray:\n",
        "#1.ndarray.ndim\n",
        "#2.ndarray.shape\n",
        "#3.ndarray.size\n",
        "#4.ndarray.dtype\n",
        "#5.ndarray.itemsize\n",
        "#6.ndarray.data"
      ],
      "metadata": {
        "id": "MewAqZ1Sisu7"
      },
      "execution_count": null,
      "outputs": []
    },
    {
      "cell_type": "code",
      "source": [
        "import numpy as np\n",
        "\n",
        "array_2d = np.array([[1, 2, 3], [4, 5, 6]])\n",
        "\n",
        "print(\"Array:\\n\", array_2d)\n",
        "print(\"Shape:\", array_2d.shape)\n",
        "print(\"Data type:\", array_2d.dtype)\n",
        "print(\"Number of dimensions:\", array_2d.ndim)\n",
        "print(\"Total number of elements:\", array_2d.size)\n"
      ],
      "metadata": {
        "colab": {
          "base_uri": "https://localhost:8080/"
        },
        "id": "j69c--mKisyC",
        "outputId": "c393068d-77fc-42f2-d484-90553d3f232d"
      },
      "execution_count": 15,
      "outputs": [
        {
          "output_type": "stream",
          "name": "stdout",
          "text": [
            "Array:\n",
            " [[1 2 3]\n",
            " [4 5 6]]\n",
            "Shape: (2, 3)\n",
            "Data type: int64\n",
            "Number of dimensions: 2\n",
            "Total number of elements: 6\n"
          ]
        }
      ]
    },
    {
      "cell_type": "code",
      "source": [
        "#Differences Between ndarray and Python Lists:\n",
        "#1.Data Type Consistency:\n",
        "#ndarray: All elements must be of the same data type (e.g., all integers or all floats).\n",
        "#Python List: Elements can be of mixed data types (e.g., integers, floats, strings).\n",
        "#2.Mathematical Operations:\n",
        "#ndarray: Mathematical operations (e.g., addition, multiplication) are applied element-wise, and support broadcasting.\n",
        "#ython List: Mathematical operations are not element-wise and require loops or list comprehensions for similar functionality.\n",
        "#3.Dimension Support:\n",
        "#ndarray: Naturally supports multi-dimensional arrays (e.g., 2D, 3D) and provides a variety of functions for multi-dimensional operations.\n",
        "#Python List: Lists can be nested to create multi-dimensional structures, but this requires manual management and lacks the performance optimizations of ndarray.\n"
      ],
      "metadata": {
        "id": "WEn0SM73is1W"
      },
      "execution_count": null,
      "outputs": []
    },
    {
      "cell_type": "code",
      "source": [
        "#6. Analyze the performance benefits of NumPy arrays over Python lists for large-scale numerical operations."
      ],
      "metadata": {
        "id": "LJvgIe1zlUST"
      },
      "execution_count": null,
      "outputs": []
    },
    {
      "cell_type": "code",
      "source": [
        "#### Performance Benefits of NumPy Arrays Over Python Lists for Large-Scale Numerical Operations:\n",
        "### 1. **Memory Efficiency**\n",
        "#Contiguous Memory Allocation**:\n",
        "  #- NumPy arrays store data in contiguous blocks of memory, which allows for efficient access and manipulation. This contrasts with Python lists, which are arrays of pointers to objects, leading to higher memory overhead.\n",
        "\n",
        "#Fixed Data Types**:\n",
        "  #All elements in a NumPy array are of the same data type (`dtype`), which simplifies memory allocation and reduces overhead. Python lists can store elements of different types, requiring more memory to store type information for each element.\n",
        "\n",
        "#Reduced Memory Usage**:\n",
        "  #NumPy’s homogeneous data structure (all elements of the same type) leads to a more compact memory layout, reducing the overall memory footprint.\n",
        "\n",
        "### 2. **Vectorized Operations**\n",
        "#Element-wise Operations**:\n",
        "  # NumPy arrays support vectorized operations, meaning that operations are applied element-wise without the need for explicit loops. This allows NumPy to leverage low-level optimizations in C or Fortran, making operations much faster than the equivalent operations on Python lists.\n",
        "\n",
        "### 3. **Optimized Mathematical Functions**\n",
        "#Built-in Functions**:\n",
        "  # NumPy provides a wide range of optimized mathematical functions (e.g., `np.sum`, `np.mean`, `np.dot`) that operate directly on arrays. These functions are implemented in C, making them much faster than similar operations performed using Python’s native functions on lists.\n",
        "\n",
        "### 4. **Broadcasting**\n",
        "#Automatic Expansion of Arrays**:\n",
        "#Broadcasting allows NumPy to perform operations on arrays of different shapes without creating unnecessary copies of data. This reduces memory usage and speeds up computations by avoiding explicit loops.\n"
      ],
      "metadata": {
        "id": "0nfFEDFGlUZi"
      },
      "execution_count": null,
      "outputs": []
    },
    {
      "cell_type": "code",
      "source": [
        "#7.Compare vstack() and hstack() functions in NumPy. Provide examples demonstrating their usage and output."
      ],
      "metadata": {
        "id": "eY_E-6NzlUdc"
      },
      "execution_count": null,
      "outputs": []
    },
    {
      "cell_type": "code",
      "source": [
        "import numpy as np\n",
        "\n",
        "# Create two 1D arrays\n",
        "arr1 = np.array([1, 2, 3])\n",
        "arr2 = np.array([4, 5, 6])\n",
        "\n",
        "result = np.vstack((arr1, arr2))\n",
        "\n",
        "print(\"vstack result:\\n\", result)\n"
      ],
      "metadata": {
        "colab": {
          "base_uri": "https://localhost:8080/"
        },
        "id": "_wgXQBPhlUhM",
        "outputId": "2a105e71-fa60-423e-95bd-4509d47dca87"
      },
      "execution_count": 16,
      "outputs": [
        {
          "output_type": "stream",
          "name": "stdout",
          "text": [
            "vstack result:\n",
            " [[1 2 3]\n",
            " [4 5 6]]\n"
          ]
        }
      ]
    },
    {
      "cell_type": "code",
      "source": [
        "import numpy as np\n",
        "\n",
        "# Create two 1D arrays\n",
        "arr1 = np.array([1, 2, 3])\n",
        "arr2 = np.array([4, 5, 6])\n",
        "\n",
        "\n",
        "result = np.hstack((arr1, arr2))\n",
        "\n",
        "print(\"hstack result:\\n\", result)\n"
      ],
      "metadata": {
        "colab": {
          "base_uri": "https://localhost:8080/"
        },
        "id": "AGdYXn_qlUkt",
        "outputId": "e0ef8bcc-5cfc-49b1-b894-b36e64e632bf"
      },
      "execution_count": 17,
      "outputs": [
        {
          "output_type": "stream",
          "name": "stdout",
          "text": [
            "hstack result:\n",
            " [1 2 3 4 5 6]\n"
          ]
        }
      ]
    },
    {
      "cell_type": "code",
      "source": [
        "#Summary\n",
        "#vstack(): Stacks arrays vertically (row-wise). The arrays must have the same number of columns.\n",
        "#hstack(): Stacks arrays horizontally (column-wise). The arrays must have the same number of rows."
      ],
      "metadata": {
        "id": "pZfe_CFulUom"
      },
      "execution_count": null,
      "outputs": []
    },
    {
      "cell_type": "code",
      "source": [
        "#8.Explain the differences between fliplr() and flipud() methods in NumPy, including their effects on various array dimensions."
      ],
      "metadata": {
        "id": "NEej8ZFTwSG0"
      },
      "execution_count": null,
      "outputs": []
    },
    {
      "cell_type": "code",
      "source": [
        "#Example with a 2D Array\n",
        "import numpy as np\n",
        "\n",
        "arr = np.array([[1, 2, 3],\n",
        "                [4, 5, 6],\n",
        "                [7, 8, 9]])\n",
        "\n",
        "result = np.flipud(arr)\n",
        "print(\"flipud result:\\n\", result)\n"
      ],
      "metadata": {
        "colab": {
          "base_uri": "https://localhost:8080/"
        },
        "id": "48k-rBsawSKS",
        "outputId": "151a404c-60b0-4421-ace8-e446c8f0d768"
      },
      "execution_count": 18,
      "outputs": [
        {
          "output_type": "stream",
          "name": "stdout",
          "text": [
            "flipud result:\n",
            " [[7 8 9]\n",
            " [4 5 6]\n",
            " [1 2 3]]\n"
          ]
        }
      ]
    },
    {
      "cell_type": "code",
      "source": [
        "#Effect on 1D Array:\n",
        "arr = np.array([1, 2, 3, 4, 5])\n",
        "\n",
        "result = np.flipud(arr)\n",
        "print(\"flipud 1D result:\", result)\n"
      ],
      "metadata": {
        "colab": {
          "base_uri": "https://localhost:8080/"
        },
        "id": "fvr2gT1QwSNz",
        "outputId": "9216cd03-1a12-49f2-905e-1b0ce796bbd0"
      },
      "execution_count": 19,
      "outputs": [
        {
          "output_type": "stream",
          "name": "stdout",
          "text": [
            "flipud 1D result: [5 4 3 2 1]\n"
          ]
        }
      ]
    },
    {
      "cell_type": "code",
      "source": [
        "#Example with a 2D Array:\n",
        "arr = np.array([[1, 2, 3],\n",
        "                [4, 5, 6],\n",
        "                [7, 8, 9]])\n",
        "\n",
        "result = np.fliplr(arr)\n",
        "print(\"fliplr result:\\n\", result)\n"
      ],
      "metadata": {
        "colab": {
          "base_uri": "https://localhost:8080/"
        },
        "id": "ngf1hOKVwSSq",
        "outputId": "f40d83a2-d7a9-4bab-ca3e-c825de09917e"
      },
      "execution_count": 20,
      "outputs": [
        {
          "output_type": "stream",
          "name": "stdout",
          "text": [
            "fliplr result:\n",
            " [[3 2 1]\n",
            " [6 5 4]\n",
            " [9 8 7]]\n"
          ]
        }
      ]
    },
    {
      "cell_type": "code",
      "source": [
        "#Example with a 3D Array:\n",
        "arr = np.array([[[1, 2, 3],\n",
        "                 [4, 5, 6]],\n",
        "\n",
        "                [[7, 8, 9],\n",
        "                 [10, 11, 12]]])\n",
        "\n",
        "flipud_result = np.flipud(arr)\n",
        "fliplr_result = np.fliplr(arr)\n",
        "\n",
        "print(\"Original array:\\n\", arr)\n",
        "print(\"\\nflipud result:\\n\", flipud_result)\n",
        "print(\"\\nfliplr result:\\n\", fliplr_result)\n"
      ],
      "metadata": {
        "colab": {
          "base_uri": "https://localhost:8080/"
        },
        "id": "FIOdrsyqwSXW",
        "outputId": "765cfc0d-22c4-4589-bc34-13bb833118b7"
      },
      "execution_count": 21,
      "outputs": [
        {
          "output_type": "stream",
          "name": "stdout",
          "text": [
            "Original array:\n",
            " [[[ 1  2  3]\n",
            "  [ 4  5  6]]\n",
            "\n",
            " [[ 7  8  9]\n",
            "  [10 11 12]]]\n",
            "\n",
            "flipud result:\n",
            " [[[ 7  8  9]\n",
            "  [10 11 12]]\n",
            "\n",
            " [[ 1  2  3]\n",
            "  [ 4  5  6]]]\n",
            "\n",
            "fliplr result:\n",
            " [[[ 4  5  6]\n",
            "  [ 1  2  3]]\n",
            "\n",
            " [[10 11 12]\n",
            "  [ 7  8  9]]]\n"
          ]
        }
      ]
    },
    {
      "cell_type": "code",
      "source": [
        "#9.Discuss the functionality of the array_split() method in NumPy. How does it handle uneven splits."
      ],
      "metadata": {
        "id": "0Co4M-bFwScY"
      },
      "execution_count": null,
      "outputs": []
    },
    {
      "cell_type": "code",
      "source": [
        "#Functionality of array_split()\n",
        "#The array_split() function divides an array into the specified number of sub-arrays. The primary difference between array_split() and split() is that array_split() does not require that the array be evenly divisible by the number of sub-arrays.\n",
        "\n",
        "Syntax:\n",
        "numpy.array_split(array, indices_or_sections, axis=0)\n",
        "#array: The array you want to split.\n",
        "#indices_or_sections: This can be either an integer or a list of integers. If it's an integer, it specifies the number of equal sections you want. If it's a list, it specifies the indices where the array should be split.\n",
        "#axis: The axis along which to split the array. The default is 0 (along rows)."
      ],
      "metadata": {
        "id": "z1_rgYzRwSf5"
      },
      "execution_count": null,
      "outputs": []
    },
    {
      "cell_type": "code",
      "source": [
        "#Handling Uneven Splits\n",
        "#When the array cannot be evenly split (i.e., the number of elements in the array is not perfectly divisible by the number of sections), array_split() will create sub-arrays with as equal a size as possible. The first few sub-arrays will have an extra element if the split is uneven."
      ],
      "metadata": {
        "id": "9seSZoqYxvCz"
      },
      "execution_count": null,
      "outputs": []
    },
    {
      "cell_type": "code",
      "source": [
        "#1, even split:\n",
        "import numpy as np\n",
        "\n",
        "arr = np.array([1, 2, 3, 4, 5, 6])\n",
        "\n",
        "\n",
        "result = np.array_split(arr, 3)\n",
        "print(result)\n"
      ],
      "metadata": {
        "colab": {
          "base_uri": "https://localhost:8080/"
        },
        "id": "6Yd78GW9xyBK",
        "outputId": "c1353755-46cf-4190-b1fd-6e719ad99adf"
      },
      "execution_count": 22,
      "outputs": [
        {
          "output_type": "stream",
          "name": "stdout",
          "text": [
            "[array([1, 2]), array([3, 4]), array([5, 6])]\n"
          ]
        }
      ]
    },
    {
      "cell_type": "code",
      "source": [
        "#2. uneven split:\n",
        "import numpy as np\n",
        "\n",
        "arr = np.array([1, 2, 3, 4, 5, 6, 7])\n",
        "\n",
        "# Split into 3 sub-arrays (uneven)\n",
        "result = np.array_split(arr, 3)\n",
        "print(result)\n"
      ],
      "metadata": {
        "colab": {
          "base_uri": "https://localhost:8080/"
        },
        "id": "Gh8OFLW8x6nw",
        "outputId": "84c36710-e5d4-4e08-d3e1-77e0291e3acb"
      },
      "execution_count": 23,
      "outputs": [
        {
          "output_type": "stream",
          "name": "stdout",
          "text": [
            "[array([1, 2, 3]), array([4, 5]), array([6, 7])]\n"
          ]
        }
      ]
    },
    {
      "cell_type": "code",
      "source": [
        "#10.Explain the concepts of vectorization and broadcasting in NumPy. How do they contribute to efficient array operations?"
      ],
      "metadata": {
        "id": "AtKKBgvXwSkE"
      },
      "execution_count": null,
      "outputs": []
    },
    {
      "cell_type": "code",
      "source": [
        "#Vectorization\n",
        "#Vectorization refers to the process of applying operations to entire arrays (vectors, matrices, or higher-dimensional arrays) at once, rather than iterating through elements with explicit loops. This is achieved by using NumPy's optimized, low-level implementation, which takes advantage of the capabilities of modern CPUs, such as SIMD (Single Instruction, Multiple Data) instructions."
      ],
      "metadata": {
        "id": "cceJ9h1LyBod"
      },
      "execution_count": null,
      "outputs": []
    },
    {
      "cell_type": "code",
      "source": [
        "import numpy as np\n",
        "\n",
        "# Create two arrays\n",
        "a = np.array([1, 2, 3, 4])\n",
        "b = np.array([10, 20, 30, 40])\n",
        "\n",
        "# Vectorized addition\n",
        "c = a + b\n",
        "print(c)\n"
      ],
      "metadata": {
        "colab": {
          "base_uri": "https://localhost:8080/"
        },
        "id": "X_kg-hnhyBsU",
        "outputId": "db4ec804-bdd2-499a-b552-d47edc523e26"
      },
      "execution_count": 24,
      "outputs": [
        {
          "output_type": "stream",
          "name": "stdout",
          "text": [
            "[11 22 33 44]\n"
          ]
        }
      ]
    },
    {
      "cell_type": "code",
      "source": [
        "#Broadcasting\n",
        "#Broadcasting is a technique that allows NumPy to perform operations on arrays of different shapes in a way that makes sense mathematically. It \"broadcasts\" the smaller array across the larger array so that they have compatible shapes. This is done without actually copying data, which saves both time and memory."
      ],
      "metadata": {
        "id": "AjIX6oK8yBvw"
      },
      "execution_count": null,
      "outputs": []
    },
    {
      "cell_type": "code",
      "source": [
        "import numpy as np\n",
        "\n",
        "# Array with shape (3,)\n",
        "a = np.array([1, 2, 3])\n",
        "\n",
        "# Array with shape (3, 1)\n",
        "b = np.array([[10], [20], [30]])\n",
        "\n",
        "# Broadcasted addition\n",
        "c = a + b\n",
        "print(c)\n"
      ],
      "metadata": {
        "colab": {
          "base_uri": "https://localhost:8080/"
        },
        "id": "QpnVIQWmyBy2",
        "outputId": "3095b0ce-f29e-42f2-adbb-8e3b6b2ba022"
      },
      "execution_count": 25,
      "outputs": [
        {
          "output_type": "stream",
          "name": "stdout",
          "text": [
            "[[11 12 13]\n",
            " [21 22 23]\n",
            " [31 32 33]]\n"
          ]
        }
      ]
    },
    {
      "cell_type": "code",
      "source": [
        "#Contribution to Efficient Array Operations\n",
        "#Reduced Computational Overhead: Both vectorization and broadcasting reduce the need for explicit Python loops, which are typically slower due to Python’s interpreted nature. Instead, operations are pushed down to the highly optimized C level, leading to faster execution.\n",
        "#Memory Efficiency: Broadcasting avoids unnecessary replication of data by handling the operations virtually, which is especially important when working with large arrays.\n",
        "#Parallelism: Vectorized operations can take advantage of modern CPU architectures, which are designed to handle multiple data points simultaneously (SIMD). This parallel processing capability further accelerates computations.\n",
        "#Cleaner Code: Vectorization and broadcasting lead to more readable and concise code, focusing on array operations rather than loop logic."
      ],
      "metadata": {
        "id": "j3jACRyIyB3M"
      },
      "execution_count": null,
      "outputs": []
    }
  ]
}